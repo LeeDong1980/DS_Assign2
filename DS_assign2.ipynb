{
 "cells": [
  {
   "cell_type": "code",
   "execution_count": 81,
   "metadata": {},
   "outputs": [],
   "source": [
    "import numpy as np\n",
    "import random\n",
    "import time\n",
    "import sys\n",
    "from pyskiplist import SkipList"
   ]
  },
  {
   "cell_type": "code",
   "execution_count": 82,
   "metadata": {},
   "outputs": [
    {
     "data": {
      "text/plain": [
       "1000000"
      ]
     },
     "execution_count": 82,
     "metadata": {},
     "output_type": "execute_result"
    }
   ],
   "source": [
    "sys.setrecursionlimit(1000000)\n",
    "sys.getrecursionlimit()"
   ]
  },
  {
   "cell_type": "code",
   "execution_count": 83,
   "metadata": {},
   "outputs": [],
   "source": [
    "searchList=[]\n",
    "for i in range(1,10**5+1):\n",
    "    searchList.append(random.randint(1,10**7))"
   ]
  },
  {
   "cell_type": "code",
   "execution_count": 84,
   "metadata": {},
   "outputs": [
    {
     "data": {
      "text/plain": [
       "100000"
      ]
     },
     "execution_count": 84,
     "metadata": {},
     "output_type": "execute_result"
    }
   ],
   "source": [
    "len(searchList)"
   ]
  },
  {
   "cell_type": "markdown",
   "metadata": {},
   "source": [
    "# Treap"
   ]
  },
  {
   "cell_type": "code",
   "execution_count": 85,
   "metadata": {},
   "outputs": [],
   "source": [
    "import random\n",
    "\n",
    "class TreapNode(object):\n",
    "    def __init__(self, key, data):\n",
    "        self.key = key\n",
    "        self.ran = random.random()\n",
    "        self.size = 1\n",
    "        self.cnt = 1\n",
    "        self.data = data\n",
    "        self.left = None\n",
    "        self.right = None\n",
    "\n",
    "    def left_rotate(self):\n",
    "        a = self\n",
    "        b = a.right\n",
    "        a.right = b.left\n",
    "        b.left = a\n",
    "        a = b\n",
    "        b = a.left\n",
    "        b.size = b.left_size() + b.right_size() + b.cnt\n",
    "        a.size = a.left_size() + a.right_size() + a.cnt\n",
    "        return a\n",
    "\n",
    "    def right_rotate(self):\n",
    "        a = self\n",
    "        b = a.left\n",
    "        a.left = b.right\n",
    "        b.right = a\n",
    "        a = b\n",
    "        b = a.right\n",
    "        b.size = b.left_size() + b.right_size() + b.cnt\n",
    "        a.size = a.left_size() + a.right_size() + a.cnt\n",
    "        return a\n",
    "\n",
    "    def left_size(self):\n",
    "        return 0 if self.left is None else self.left.size\n",
    "\n",
    "    def right_size(self):\n",
    "        return 0 if self.right is None else self.right.size\n",
    "    \n",
    "    def __repr__(self):\n",
    "        return '<node key:%s ran:%f size:%d left:%s right:%s>' % (str(self.key), self.ran, self.size, str(self.left), str(self.right))\n",
    "\n",
    "\n",
    "class Treap(object):\n",
    "    def __init__(self):\n",
    "        self.root = None\n",
    "\n",
    "    def _insert(self, node, key, data=None):\n",
    "        if node is None:\n",
    "            node = TreapNode(key, data)\n",
    "            return node\n",
    "        node.size += 1\n",
    "        if key < node.key:\n",
    "            node.left = self._insert(node.left, key, data)\n",
    "            if node.left.ran < node.ran:\n",
    "                node = node.right_rotate()\n",
    "        elif key >= node.key:\n",
    "            node.right = self._insert(node.right, key, data)\n",
    "            if node.right.ran < node.ran:\n",
    "                node = node.left_rotate()\n",
    "        #else:\n",
    "        #    node.cnt += 1\n",
    "        return node\n",
    "\n",
    "    def insert(self, key, data=None):\n",
    "        self.root = self._insert(self.root, key, data)\n",
    "    \n",
    "    def _find(self, node, key):\n",
    "        if node == None:\n",
    "            return None\n",
    "        if node.key == key:\n",
    "            return node\n",
    "        if key < node.key:\n",
    "            return self._find(node.left, key)\n",
    "        else:\n",
    "            return self._find(node.right, key)\n",
    "\n",
    "    def find(self, key):\n",
    "        return self._find(self.root, key)\n",
    "\n",
    "    def _delete(self, node, key):\n",
    "        if node is None:\n",
    "            return False\n",
    "        if node.key == key:\n",
    "            if node.left is None and node.right is None:\n",
    "                return None\n",
    "            elif node.left is None:\n",
    "                return node.right\n",
    "            elif node.right is None:\n",
    "                return node.left\n",
    "            else:\n",
    "                if node.left.ran < node.right.ran:\n",
    "                    node = node.right_rotate()\n",
    "                    node.right = self._delete(node.right, key)\n",
    "                else:\n",
    "                    node = node.left_rotate()\n",
    "                    node.left = self._delete(node.left, key)\n",
    "        elif key < node.key:\n",
    "            node.left = self._delete(node.left, key)\n",
    "        else:\n",
    "            node.right = self._delete(node.right, key)\n",
    "        node.size = node.left_size() + node.right_size() + node.cnt\n",
    "        return node\n",
    "\n",
    "    def delete(self, key):\n",
    "        if self.find(key) is None: return False\n",
    "        self.root = self._delete(self.root, key)\n",
    "        return True\n",
    "\n",
    "    def _find_kth(self, node, k):\n",
    "        if node is None: return None\n",
    "        if k <= node.left_size():\n",
    "            return self._find_kth(node.left, k)\n",
    "        if k > node.left_size() + node.cnt:\n",
    "            return self._find_kth(node.right, k - node.left_size() - node.cnt)\n",
    "        return node\n",
    "\n",
    "    def find_kth(self, k):\n",
    "        if k <=0 or k > self.size():\n",
    "            return None\n",
    "        return self._find_kth(self.root, k)\n",
    "\n",
    "    def size(self):\n",
    "        return 0 if self.root is None else self.root.size\n",
    "    \n",
    "    def median(self):\n",
    "        s = self.size()\n",
    "        if s == 0: return 0\n",
    "        result = 0\n",
    "        if s % 2 == 1:\n",
    "            result = self.find_kth(s / 2 + 1).key\n",
    "        else:\n",
    "            result = (self.find_kth(s / 2).key + self.find_kth(s / 2 + 1).key) / 2.0\n",
    "        if result == int(result): result = int(result)\n",
    "        return result\n",
    "\n",
    "    def _traverse(self, node):\n",
    "        if node == None: return\n",
    "        self._traverse(node.left)\n",
    "        print(node.key)\n",
    "        self._traverse(node.right)\n",
    "\n",
    "    def traverse(self):\n",
    "        self._traverse(self.root)\n",
    "    \n",
    "    def __repr__(self):\n",
    "        return str(self.root)"
   ]
  },
  {
   "cell_type": "markdown",
   "metadata": {},
   "source": [
    "Treap source code:https://gist.github.com/irachex/3922705"
   ]
  },
  {
   "cell_type": "code",
   "execution_count": 86,
   "metadata": {},
   "outputs": [],
   "source": [
    "t = Treap()"
   ]
  },
  {
   "cell_type": "code",
   "execution_count": 87,
   "metadata": {},
   "outputs": [],
   "source": [
    "tPartDuration = []\n",
    "for i in range(0,10**4):\n",
    "    tStart = time.clock()\n",
    "    for j in range(1000*i+1,1000*(i+1)+1):        \n",
    "        t.insert(random.randint(1,10**7))\n",
    "    tEnd = time.clock()\n",
    "    tDuration = tEnd - tStart\n",
    "    tPartDuration.append(tDuration)"
   ]
  },
  {
   "cell_type": "code",
   "execution_count": 88,
   "metadata": {},
   "outputs": [
    {
     "data": {
      "text/plain": [
       "2.334514800000761"
      ]
     },
     "execution_count": 88,
     "metadata": {},
     "output_type": "execute_result"
    }
   ],
   "source": [
    "tSStart = time.clock()\n",
    "for i in range(0,10**5):\n",
    "    t.find(searchList[i])\n",
    "tSEnd = time.clock()\n",
    "tSDuration = tSEnd - tSStart\n",
    "tSDuration"
   ]
  },
  {
   "cell_type": "markdown",
   "metadata": {},
   "source": [
    "# Skiplist"
   ]
  },
  {
   "cell_type": "code",
   "execution_count": 90,
   "metadata": {
    "collapsed": true
   },
   "outputs": [],
   "source": [
    "s = SkipList()"
   ]
  },
  {
   "cell_type": "code",
   "execution_count": 91,
   "metadata": {},
   "outputs": [],
   "source": [
    "sPartDuration = []\n",
    "for i in range(0,10**4):\n",
    "    sStart = time.clock()\n",
    "    for j in range(1000*i+1,1000*(i+1)+1):        \n",
    "        s.insert(j,random.randint(1,10**7))\n",
    "    sEnd = time.clock()\n",
    "    sDuration = sEnd - sStart\n",
    "    sPartDuration.append(sDuration)   "
   ]
  },
  {
   "cell_type": "code",
   "execution_count": 92,
   "metadata": {},
   "outputs": [
    {
     "data": {
      "text/plain": [
       "10000"
      ]
     },
     "execution_count": 92,
     "metadata": {},
     "output_type": "execute_result"
    }
   ],
   "source": [
    "len(sPartDuration)"
   ]
  },
  {
   "cell_type": "code",
   "execution_count": 94,
   "metadata": {},
   "outputs": [
    {
     "data": {
      "text/plain": [
       "1.8920257999998285"
      ]
     },
     "execution_count": 94,
     "metadata": {},
     "output_type": "execute_result"
    }
   ],
   "source": [
    "sSStart = time.clock()\n",
    "for i in range(0,10**5):\n",
    "    s.search(searchList[i])\n",
    "sSEnd = time.clock()\n",
    "sSDuration = sSEnd - sSStart\n",
    "sSDuration"
   ]
  },
  {
   "cell_type": "markdown",
   "metadata": {},
   "source": [
    "# Red black tree"
   ]
  },
  {
   "cell_type": "code",
   "execution_count": 96,
   "metadata": {},
   "outputs": [],
   "source": [
    "class rbnode(object):\n",
    "    \"\"\"\n",
    "    A node in a red black tree. See Cormen, Leiserson, Rivest, Stein 2nd edition pg 273.\n",
    "    \"\"\"\n",
    "    \n",
    "    def __init__(self, key):\n",
    "        \"Construct.\"\n",
    "        self._key = key\n",
    "        self._red = False\n",
    "        self._left = None\n",
    "        self._right = None\n",
    "        self._p = None\n",
    "    \n",
    "    key = property(fget=lambda self: self._key, doc=\"The node's key\")\n",
    "    red = property(fget=lambda self: self._red, doc=\"Is the node red?\")\n",
    "    left = property(fget=lambda self: self._left, doc=\"The node's left child\")\n",
    "    right = property(fget=lambda self: self._right, doc=\"The node's right child\")\n",
    "    p = property(fget=lambda self: self._p, doc=\"The node's parent\")\n",
    "    \n",
    "    def __str__(self):\n",
    "        \"String representation.\"\n",
    "        return str(self.key)\n",
    "    \n",
    "\n",
    "    def __repr__(self):\n",
    "        \"String representation.\"\n",
    "        return str(self.key)\n",
    "\n",
    "class rbtree(object):\n",
    "    \"\"\"\n",
    "    A red black tree. See Cormen, Leiserson, Rivest, Stein 2nd edition pg 273.\n",
    "    \"\"\"\n",
    "    \n",
    "    \n",
    "    def __init__(self, create_node=rbnode):\n",
    "        \"Construct.\"\n",
    "        \n",
    "        self._nil = create_node(key=None)\n",
    "        \"Our nil node, used for all leaves.\"\n",
    "        \n",
    "        self._root = self.nil\n",
    "        \"The root of the tree.\"\n",
    "        \n",
    "        self._create_node = create_node\n",
    "        \"A callable that creates a node.\"\n",
    "\n",
    "\n",
    "    root = property(fget=lambda self: self._root, doc=\"The tree's root node\")\n",
    "    nil = property(fget=lambda self: self._nil, doc=\"The tree's nil node\")\n",
    "    \n",
    "    \n",
    "    def search(self, key, x=None):\n",
    "        \"\"\"\n",
    "        Search the subtree rooted at x (or the root if not given) iteratively for the key.\n",
    "        \n",
    "        @return: self.nil if it cannot find it.\n",
    "        \"\"\"\n",
    "        if None == x:\n",
    "            x = self.root\n",
    "        while x != self.nil and key != x.key:\n",
    "            if key < x.key:\n",
    "                x = x.left\n",
    "            else:\n",
    "                x = x.right\n",
    "        return x\n",
    "\n",
    "    \n",
    "    def minimum(self, x=None):\n",
    "        \"\"\"\n",
    "        @return: The minimum value in the subtree rooted at x.\n",
    "        \"\"\"\n",
    "        if None == x:\n",
    "            x = self.root\n",
    "        while x.left != self.nil:\n",
    "            x = x.left\n",
    "        return x\n",
    "\n",
    "    \n",
    "    def maximum(self, x=None):\n",
    "        \"\"\"\n",
    "        @return: The maximum value in the subtree rooted at x.\n",
    "        \"\"\"\n",
    "        if None == x:\n",
    "            x = self.root\n",
    "        while x.right != self.nil:\n",
    "            x = x.right\n",
    "        return x\n",
    "\n",
    "    \n",
    "    def insert_key(self, key):\n",
    "        \"Insert the key into the tree.\"\n",
    "        self.insert_node(self._create_node(key=key))\n",
    "    \n",
    "    \n",
    "    def insert_node(self, z):\n",
    "        \"Insert node z into the tree.\"\n",
    "        y = self.nil\n",
    "        x = self.root\n",
    "        while x != self.nil:\n",
    "            y = x\n",
    "            if z.key < x.key:\n",
    "                x = x.left\n",
    "            else:\n",
    "                x = x.right\n",
    "        z._p = y\n",
    "        if y == self.nil:\n",
    "            self._root = z\n",
    "        elif z.key < y.key:\n",
    "            y._left = z\n",
    "        else:\n",
    "            y._right = z\n",
    "        z._left = self.nil\n",
    "        z._right = self.nil\n",
    "        z._red = True\n",
    "        self._insert_fixup(z)\n",
    "        \n",
    "        \n",
    "    def _insert_fixup(self, z):\n",
    "        \"Restore red-black properties after insert.\"\n",
    "        while z.p.red:\n",
    "            if z.p == z.p.p.left:\n",
    "                y = z.p.p.right\n",
    "                if y.red:\n",
    "                    z.p._red = False\n",
    "                    y._red = False\n",
    "                    z.p.p._red = True\n",
    "                    z = z.p.p\n",
    "                else:\n",
    "                    if z == z.p.right:\n",
    "                        z = z.p\n",
    "                        self._left_rotate(z)\n",
    "                    z.p._red = False\n",
    "                    z.p.p._red = True\n",
    "                    self._right_rotate(z.p.p)\n",
    "            else:\n",
    "                y = z.p.p.left\n",
    "                if y.red:\n",
    "                    z.p._red = False\n",
    "                    y._red = False\n",
    "                    z.p.p._red = True\n",
    "                    z = z.p.p\n",
    "                else:\n",
    "                    if z == z.p.left:\n",
    "                        z = z.p\n",
    "                        self._right_rotate(z)\n",
    "                    z.p._red = False\n",
    "                    z.p.p._red = True\n",
    "                    self._left_rotate(z.p.p)\n",
    "        self.root._red = False\n",
    "\n",
    "    \n",
    "    def _left_rotate(self, x):\n",
    "        \"Left rotate x.\"\n",
    "        y = x.right\n",
    "        x._right = y.left\n",
    "        if y.left != self.nil:\n",
    "            y.left._p = x\n",
    "        y._p = x.p\n",
    "        if x.p == self.nil:\n",
    "            self._root = y\n",
    "        elif x == x.p.left:\n",
    "            x.p._left = y\n",
    "        else:\n",
    "            x.p._right = y\n",
    "        y._left = x\n",
    "        x._p = y\n",
    "\n",
    "\n",
    "    def _right_rotate(self, y):\n",
    "        \"Left rotate y.\"\n",
    "        x = y.left\n",
    "        y._left = x.right\n",
    "        if x.right != self.nil:\n",
    "            x.right._p = y\n",
    "        x._p = y.p\n",
    "        if y.p == self.nil:\n",
    "            self._root = x\n",
    "        elif y == y.p.right:\n",
    "            y.p._right = x\n",
    "        else:\n",
    "            y.p._left = x\n",
    "        x._right = y\n",
    "        y._p = x\n",
    "\n",
    "\n",
    "    def check_invariants(self):\n",
    "        \"@return: True iff satisfies all criteria to be red-black tree.\"\n",
    "        \n",
    "        def is_red_black_node(node):\n",
    "            \"@return: num_black\"\n",
    "            # check has _left and _right or neither\n",
    "            if (node.left and not node.right) or (node.right and not node.left):\n",
    "                return 0, False\n",
    "\n",
    "            # check leaves are black\n",
    "            if not node.left and not node.right and node.red:\n",
    "                return 0, False\n",
    "\n",
    "            # if node is red, check children are black\n",
    "            if node.red and node.left and node.right:\n",
    "                if node.left.red or node.right.red:\n",
    "                    return 0, False\n",
    "                    \n",
    "            # descend tree and check black counts are balanced\n",
    "            if node.left and node.right:\n",
    "                \n",
    "                # check children's parents are correct\n",
    "                if self.nil != node.left and node != node.left.p:\n",
    "                    return 0, False\n",
    "                if self.nil != node.right and node != node.right.p:\n",
    "                    return 0, False\n",
    "\n",
    "                # check children are ok\n",
    "                left_counts, left_ok = is_red_black_node(node.left)\n",
    "                if not left_ok:\n",
    "                    return 0, False\n",
    "                right_counts, right_ok = is_red_black_node(node.right)\n",
    "                if not right_ok:\n",
    "                    return 0, False\n",
    "\n",
    "                # check children's counts are ok\n",
    "                if left_counts != right_counts:\n",
    "                    return 0, False\n",
    "                return left_counts, True\n",
    "            else:\n",
    "                return 0, True\n",
    "                \n",
    "        num_black, is_ok = is_red_black_node(self.root)\n",
    "        return is_ok and not self.root._red\n",
    "                \n",
    "\n",
    "\n",
    "\n",
    "def write_tree_as_dot(t, f, show_nil=False):\n",
    "    \"Write the tree in the dot language format to f.\"\n",
    "    def node_id(node):\n",
    "        return 'N%d' % id(node)\n",
    "    \n",
    "    def node_color(node):\n",
    "        if node.red:\n",
    "            return \"red\"\n",
    "        else:\n",
    "            return \"black\"\n",
    "    \n",
    "    def visit_node(node):\n",
    "        \"Visit a node.\"\n",
    "        print(f, \"  %s [label=\\\"%s\\\", color=\\\"%s\\\"];\" % (node_id(node), node, node_color(node)))\n",
    "        if node.left:\n",
    "            if node.left != t.nil or show_nil:\n",
    "                visit_node(node.left)\n",
    "                print(f, \"  %s -> %s ;\" % (node_id(node), node_id(node.left)))\n",
    "        if node.right:\n",
    "            if node.right != t.nil or show_nil:\n",
    "                visit_node(node.right)\n",
    "                print(f, \"  %s -> %s ;\" % (node_id(node), node_id(node.right)))\n",
    "             \n",
    "    print(f, \"// Created by rbtree.write_dot()\")\n",
    "    print(f, \"digraph red_black_tree {\")\n",
    "    visit_node(t.root)\n",
    "    print(f, \"}\")\n",
    "\n",
    "\n",
    "\n",
    "\n",
    "def test_tree(t, keys):\n",
    "    \"Insert keys one by one checking invariants and membership as we go.\"\n",
    "    assert t.check_invariants()\n",
    "    for i, key in enumerate(keys):\n",
    "        for key2 in keys[:i]:\n",
    "            assert t.nil != t.search(key2)\n",
    "        for key2 in keys[i:]:\n",
    "            assert (t.nil == t.search(key2)) ^ (key2 in keys[:i])\n",
    "        t.insert_key(key)\n",
    "        assert t.check_invariants()\n",
    "    \n",
    "\n",
    "if '__main__' == __name__:\n",
    "    import os, sys, numpy.random as R\n",
    "    def write_tree(t, filename):\n",
    "        \"Write the tree as an SVG file.\"\n",
    "        f = open('%s.dot' % filename, 'w')\n",
    "        write_tree_as_dot(t, f)\n",
    "        f.close()\n",
    "        os.system('dot %s.dot -Tsvg -o %s.svg' % (filename, filename))\n",
    "        \n",
    "    # test the rbtree\n",
    "    R.seed(2)\n",
    "    size=50\n",
    "    keys = R.randint(-50, 50, size=size)\n",
    "    t = rbtree()\n",
    "    test_tree(t, keys)"
   ]
  },
  {
   "cell_type": "markdown",
   "metadata": {},
   "source": [
    "Red black tree source code:(http://code.activestate.com/recipes/576817-red-black-tree/)"
   ]
  },
  {
   "cell_type": "code",
   "execution_count": 97,
   "metadata": {
    "collapsed": true
   },
   "outputs": [],
   "source": [
    "rb = rbtree()"
   ]
  },
  {
   "cell_type": "code",
   "execution_count": 98,
   "metadata": {},
   "outputs": [],
   "source": [
    "rbPartDuration = []\n",
    "for i in range(0,10**4):\n",
    "    rbStart = time.clock()\n",
    "    for j in range(1000*i+1,1000*(i+1)+1):        \n",
    "        rb.insert_key(random.randint(1,10**7))\n",
    "    rbEnd = time.clock()\n",
    "    rbDuration = rbEnd - rbStart\n",
    "    rbPartDuration.append(rbDuration)"
   ]
  },
  {
   "cell_type": "code",
   "execution_count": 99,
   "metadata": {},
   "outputs": [
    {
     "data": {
      "text/plain": [
       "2.293303600003128"
      ]
     },
     "execution_count": 99,
     "metadata": {},
     "output_type": "execute_result"
    }
   ],
   "source": [
    "rbSStart = time.clock()\n",
    "for i in range(0,10**5):\n",
    "    rb.search(searchList[i])\n",
    "rbSEnd = time.clock()\n",
    "rbSDuration = rbSEnd - rbSStart\n",
    "rbSDuration"
   ]
  },
  {
   "cell_type": "code",
   "execution_count": 100,
   "metadata": {},
   "outputs": [
    {
     "name": "stdout",
     "output_type": "stream",
     "text": [
      "1289.9796471004447 166.69257439958164 530.9217771992408\n",
      "2.334514800000761 1.8920257999998285 2.293303600003128\n"
     ]
    }
   ],
   "source": [
    "tSumDuration = sum(tPartDuration)\n",
    "sSumDuration = sum(sPartDuration)\n",
    "rbSumDuration = sum(rbPartDuration)\n",
    "print(tSumDuration,sSumDuration,rbSumDuration)\n",
    "print(tSDuration,sSDuration,rbSDuration)"
   ]
  },
  {
   "cell_type": "code",
   "execution_count": 101,
   "metadata": {
    "collapsed": true
   },
   "outputs": [],
   "source": [
    "%matplotlib inline\n",
    "import matplotlib.pyplot as plt"
   ]
  },
  {
   "cell_type": "code",
   "execution_count": 102,
   "metadata": {},
   "outputs": [],
   "source": [
    "insertTime = [tSumDuration,sSumDuration,rbSumDuration]\n",
    "searchTime = [tSDuration,sSDuration,rbSDuration]"
   ]
  },
  {
   "cell_type": "markdown",
   "metadata": {},
   "source": [
    "# 新增時間"
   ]
  },
  {
   "cell_type": "code",
   "execution_count": 112,
   "metadata": {},
   "outputs": [
    {
     "data": {
      "text/plain": [
       "[<matplotlib.lines.Line2D at 0x18feec1e2b0>]"
      ]
     },
     "execution_count": 112,
     "metadata": {},
     "output_type": "execute_result"
    },
    {
     "data": {
      "image/png": "[encoded data removed]",
      "text/plain": [
       "<Figure size 432x288 with 1 Axes>"
      ]
     },
     "metadata": {},
     "output_type": "display_data"
    }
   ],
   "source": [
    "#每千次\n",
    "plt.xlabel(\"times\")\n",
    "plt.ylabel(\"seconds\")\n",
    "plt.plot(tPartDuration,'b') #Treap"
   ]
  },
  {
   "cell_type": "code",
   "execution_count": 113,
   "metadata": {},
   "outputs": [
    {
     "data": {
      "text/plain": [
       "[<matplotlib.lines.Line2D at 0x18f9b589a90>]"
      ]
     },
     "execution_count": 113,
     "metadata": {},
     "output_type": "execute_result"
    },
    {
     "data": {
      "image/png": "[encoded data removed]",
      "text/plain": [
       "<Figure size 432x288 with 1 Axes>"
      ]
     },
     "metadata": {},
     "output_type": "display_data"
    }
   ],
   "source": [
    "plt.xlabel(\"times\")\n",
    "plt.ylabel(\"seconds\")\n",
    "plt.plot(sPartDuration,'g') #Skiplist"
   ]
  },
  {
   "cell_type": "code",
   "execution_count": 114,
   "metadata": {},
   "outputs": [
    {
     "data": {
      "text/plain": [
       "[<matplotlib.lines.Line2D at 0x190102fd710>]"
      ]
     },
     "execution_count": 114,
     "metadata": {},
     "output_type": "execute_result"
    },
    {
     "data": {
      "image/png": "[encoded data removed]",
      "text/plain": [
       "<Figure size 432x288 with 1 Axes>"
      ]
     },
     "metadata": {},
     "output_type": "display_data"
    }
   ],
   "source": [
    "plt.xlabel(\"times\")\n",
    "plt.ylabel(\"seconds\")\n",
    "plt.plot(rbPartDuration,'r') #Red black tree"
   ]
  },
  {
   "cell_type": "code",
   "execution_count": 115,
   "metadata": {},
   "outputs": [
    {
     "data": {
      "text/plain": [
       "[<matplotlib.lines.Line2D at 0x19005792e48>]"
      ]
     },
     "execution_count": 115,
     "metadata": {},
     "output_type": "execute_result"
    },
    {
     "data": {
      "image/png": "[encoded data removed]",
      "text/plain": [
       "<Figure size 432x288 with 1 Axes>"
      ]
     },
     "metadata": {},
     "output_type": "display_data"
    }
   ],
   "source": [
    "#總長度\n",
    "plt.xlabel(\"Treap/Skiplist/Rbtree\")\n",
    "plt.ylabel(\"seconds\")\n",
    "plt.plot(insertTime,'ko-')"
   ]
  },
  {
   "cell_type": "markdown",
   "metadata": {},
   "source": [
    "# 搜尋時間"
   ]
  },
  {
   "cell_type": "code",
   "execution_count": 116,
   "metadata": {},
   "outputs": [
    {
     "data": {
      "text/plain": [
       "[<matplotlib.lines.Line2D at 0x18fdf5c8208>]"
      ]
     },
     "execution_count": 116,
     "metadata": {},
     "output_type": "execute_result"
    },
    {
     "data": {
      "image/png": "[encoded data removed]",
      "text/plain": [
       "<Figure size 432x288 with 1 Axes>"
      ]
     },
     "metadata": {},
     "output_type": "display_data"
    }
   ],
   "source": [
    "plt.xlabel(\"Treap/Skiplist/Rbtree\")\n",
    "plt.ylabel(\"seconds\")\n",
    "plt.plot(searchTime,'yo-')"
   ]
  },
  {
   "cell_type": "code",
   "execution_count": null,
   "metadata": {
    "collapsed": true
   },
   "outputs": [],
   "source": []
  }
 ],
 "metadata": {
  "kernelspec": {
   "display_name": "Python 3",
   "language": "python",
   "name": "python3"
  },
  "language_info": {
   "codemirror_mode": {
    "name": "ipython",
    "version": 3
   },
   "file_extension": ".py",
   "mimetype": "text/x-python",
   "name": "python",
   "nbconvert_exporter": "python",
   "pygments_lexer": "ipython3",
   "version": "3.6.8"
  }
 },
 "nbformat": 4,
 "nbformat_minor": 2
}
